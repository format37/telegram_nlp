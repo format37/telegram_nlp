{
 "cells": [
  {
   "cell_type": "code",
   "execution_count": 2,
   "id": "2265ff55",
   "metadata": {},
   "outputs": [],
   "source": [
    "import json\n",
    "import pandas as pd"
   ]
  },
  {
   "cell_type": "code",
   "execution_count": 2,
   "id": "92747351",
   "metadata": {},
   "outputs": [],
   "source": [
    "def extract_text(text):\n",
    "    if type(text) is list:\n",
    "        i = 0\n",
    "        result = ''\n",
    "        for t in text:\n",
    "            result += extract_text(t)\n",
    "            i += 1\n",
    "            if i > 10:\n",
    "                print('DEPTH ERROR:', i)\n",
    "                return text\n",
    "        return result\n",
    "    elif type(text) is dict:\n",
    "        return extract_text(text['text'])\n",
    "    else:\n",
    "        return text"
   ]
  },
  {
   "cell_type": "code",
   "execution_count": 3,
   "id": "27f6acfd",
   "metadata": {},
   "outputs": [],
   "source": [
    "# telegram exported text data\n",
    "# filename = 'InvestFuture_ChatExport_2022-07-24/result.json'\n",
    "filename = 'Cryptocurrency_news_ChatExport_2022-07-24/result.json'\n",
    "\n",
    "# read json file\n",
    "with open(filename, 'r') as f:\n",
    "    data = json.load(f)"
   ]
  },
  {
   "cell_type": "code",
   "execution_count": 4,
   "id": "ff5d5dd3",
   "metadata": {},
   "outputs": [],
   "source": [
    "# load data into pandas dataframe\n",
    "df = pd.DataFrame(data)"
   ]
  },
  {
   "cell_type": "code",
   "execution_count": 5,
   "id": "24201c9f",
   "metadata": {},
   "outputs": [
    {
     "name": "stdout",
     "output_type": "stream",
     "text": [
      "DEPTH ERROR: 11\n",
      "DEPTH ERROR: 11\n",
      "DEPTH ERROR: 11\n",
      "DEPTH ERROR: 11\n",
      "DEPTH ERROR: 11\n",
      "DEPTH ERROR: 11\n",
      "DEPTH ERROR: 11\n",
      "DEPTH ERROR: 11\n",
      "DEPTH ERROR: 11\n",
      "DEPTH ERROR: 11\n",
      "DEPTH ERROR: 11\n",
      "DEPTH ERROR: 11\n",
      "DEPTH ERROR: 11\n",
      "DEPTH ERROR: 11\n",
      "DEPTH ERROR: 11\n",
      "DEPTH ERROR: 11\n",
      "DEPTH ERROR: 11\n",
      "DEPTH ERROR: 11\n",
      "DEPTH ERROR: 11\n",
      "DEPTH ERROR: 11\n",
      "DEPTH ERROR: 11\n",
      "DEPTH ERROR: 11\n",
      "DEPTH ERROR: 11\n",
      "DEPTH ERROR: 11\n",
      "DEPTH ERROR: 11\n",
      "DEPTH ERROR: 11\n",
      "DEPTH ERROR: 11\n",
      "DEPTH ERROR: 11\n",
      "DEPTH ERROR: 11\n",
      "DEPTH ERROR: 11\n",
      "DEPTH ERROR: 11\n",
      "DEPTH ERROR: 11\n",
      "DEPTH ERROR: 11\n",
      "DEPTH ERROR: 11\n",
      "DEPTH ERROR: 11\n",
      "DEPTH ERROR: 11\n",
      "DEPTH ERROR: 11\n",
      "DEPTH ERROR: 11\n",
      "DEPTH ERROR: 11\n",
      "DEPTH ERROR: 11\n",
      "DEPTH ERROR: 11\n",
      "DEPTH ERROR: 11\n",
      "DEPTH ERROR: 11\n",
      "DEPTH ERROR: 11\n",
      "DEPTH ERROR: 11\n",
      "DEPTH ERROR: 11\n",
      "DEPTH ERROR: 11\n",
      "DEPTH ERROR: 11\n",
      "DEPTH ERROR: 11\n",
      "DEPTH ERROR: 11\n",
      "DEPTH ERROR: 11\n",
      "DEPTH ERROR: 11\n",
      "DEPTH ERROR: 11\n",
      "DEPTH ERROR: 11\n",
      "DEPTH ERROR: 11\n",
      "DEPTH ERROR: 11\n",
      "DEPTH ERROR: 11\n",
      "DEPTH ERROR: 11\n",
      "DEPTH ERROR: 11\n"
     ]
    }
   ],
   "source": [
    "# Now we have a dataframe with columns:\n",
    "# name, type, id, messages\n",
    "# Each value of messages column, contains a dictionary with keys:\n",
    "# ['id', 'type', 'date', 'date_unixtime', 'actor', 'actor_id', 'action', 'title', 'text']\n",
    "# Make a dataframe with these columns\n",
    "# And fill with dictionary data\n",
    "\n",
    "# add columns to dataframe\n",
    "df['date_unixtime'] = df['messages'].apply(lambda x: x['date_unixtime'])\n",
    "df['date'] = df['messages'].apply(lambda x: x['date'])\n",
    "df['text'] = df['messages'].apply(lambda x: x['text'])\n",
    "df['text'] = df.apply(lambda row: extract_text(row.text), axis=1)"
   ]
  },
  {
   "cell_type": "code",
   "execution_count": 6,
   "id": "e534997a",
   "metadata": {},
   "outputs": [],
   "source": [
    "# drop all columns, except of ['date_unixtime', 'date', 'text']\n",
    "df = df[['date_unixtime', 'date', 'text']]"
   ]
  },
  {
   "cell_type": "code",
   "execution_count": 7,
   "id": "d99bf28d",
   "metadata": {},
   "outputs": [],
   "source": [
    "# Drop records, where text is empty\n",
    "df = df[df['text'].apply(lambda x: len(x) > 0)]"
   ]
  },
  {
   "cell_type": "code",
   "execution_count": 8,
   "id": "3580efad",
   "metadata": {},
   "outputs": [
    {
     "data": {
      "text/html": [
       "<div>\n",
       "<style scoped>\n",
       "    .dataframe tbody tr th:only-of-type {\n",
       "        vertical-align: middle;\n",
       "    }\n",
       "\n",
       "    .dataframe tbody tr th {\n",
       "        vertical-align: top;\n",
       "    }\n",
       "\n",
       "    .dataframe thead th {\n",
       "        text-align: right;\n",
       "    }\n",
       "</style>\n",
       "<table border=\"1\" class=\"dataframe\">\n",
       "  <thead>\n",
       "    <tr style=\"text-align: right;\">\n",
       "      <th></th>\n",
       "      <th>date_unixtime</th>\n",
       "      <th>date</th>\n",
       "      <th>text</th>\n",
       "    </tr>\n",
       "  </thead>\n",
       "  <tbody>\n",
       "    <tr>\n",
       "      <th>5</th>\n",
       "      <td>1517911539</td>\n",
       "      <td>2018-02-06T13:05:39</td>\n",
       "      <td>Трафик растет и приносит плоды</td>\n",
       "    </tr>\n",
       "    <tr>\n",
       "      <th>7</th>\n",
       "      <td>1518163868</td>\n",
       "      <td>2018-02-09T11:11:08</td>\n",
       "      <td>Попробуй хоть раз в жизни сделать то, что тебе...</td>\n",
       "    </tr>\n",
       "    <tr>\n",
       "      <th>8</th>\n",
       "      <td>1518257085</td>\n",
       "      <td>2018-02-10T13:04:45</td>\n",
       "      <td>Не стоит отступать назад, когда впереди вас ож...</td>\n",
       "    </tr>\n",
       "  </tbody>\n",
       "</table>\n",
       "</div>"
      ],
      "text/plain": [
       "  date_unixtime                 date  \\\n",
       "5    1517911539  2018-02-06T13:05:39   \n",
       "7    1518163868  2018-02-09T11:11:08   \n",
       "8    1518257085  2018-02-10T13:04:45   \n",
       "\n",
       "                                                text  \n",
       "5                     Трафик растет и приносит плоды  \n",
       "7  Попробуй хоть раз в жизни сделать то, что тебе...  \n",
       "8  Не стоит отступать назад, когда впереди вас ож...  "
      ]
     },
     "execution_count": 8,
     "metadata": {},
     "output_type": "execute_result"
    }
   ],
   "source": [
    "df.head(3)"
   ]
  },
  {
   "cell_type": "code",
   "execution_count": 9,
   "id": "1ecd255a",
   "metadata": {},
   "outputs": [],
   "source": [
    "# drop old history"
   ]
  },
  {
   "cell_type": "code",
   "execution_count": 10,
   "id": "67078fb3",
   "metadata": {},
   "outputs": [],
   "source": [
    "df = df[df.text.notnull()]"
   ]
  },
  {
   "cell_type": "code",
   "execution_count": 11,
   "id": "9b84c775",
   "metadata": {},
   "outputs": [],
   "source": [
    "#df[df.text.contains('а')]\n",
    "df['rus'] = df.text.str.contains('а')"
   ]
  },
  {
   "cell_type": "code",
   "execution_count": 12,
   "id": "b1880129",
   "metadata": {},
   "outputs": [
    {
     "data": {
      "text/html": [
       "<div>\n",
       "<style scoped>\n",
       "    .dataframe tbody tr th:only-of-type {\n",
       "        vertical-align: middle;\n",
       "    }\n",
       "\n",
       "    .dataframe tbody tr th {\n",
       "        vertical-align: top;\n",
       "    }\n",
       "\n",
       "    .dataframe thead th {\n",
       "        text-align: right;\n",
       "    }\n",
       "</style>\n",
       "<table border=\"1\" class=\"dataframe\">\n",
       "  <thead>\n",
       "    <tr style=\"text-align: right;\">\n",
       "      <th></th>\n",
       "      <th>date_unixtime</th>\n",
       "      <th>date</th>\n",
       "      <th>text</th>\n",
       "      <th>rus</th>\n",
       "    </tr>\n",
       "  </thead>\n",
       "  <tbody>\n",
       "    <tr>\n",
       "      <th>5</th>\n",
       "      <td>1517911539</td>\n",
       "      <td>2018-02-06T13:05:39</td>\n",
       "      <td>Трафик растет и приносит плоды</td>\n",
       "      <td>True</td>\n",
       "    </tr>\n",
       "    <tr>\n",
       "      <th>7</th>\n",
       "      <td>1518163868</td>\n",
       "      <td>2018-02-09T11:11:08</td>\n",
       "      <td>Попробуй хоть раз в жизни сделать то, что тебе...</td>\n",
       "      <td>True</td>\n",
       "    </tr>\n",
       "    <tr>\n",
       "      <th>8</th>\n",
       "      <td>1518257085</td>\n",
       "      <td>2018-02-10T13:04:45</td>\n",
       "      <td>Не стоит отступать назад, когда впереди вас ож...</td>\n",
       "      <td>True</td>\n",
       "    </tr>\n",
       "  </tbody>\n",
       "</table>\n",
       "</div>"
      ],
      "text/plain": [
       "  date_unixtime                 date  \\\n",
       "5    1517911539  2018-02-06T13:05:39   \n",
       "7    1518163868  2018-02-09T11:11:08   \n",
       "8    1518257085  2018-02-10T13:04:45   \n",
       "\n",
       "                                                text   rus  \n",
       "5                     Трафик растет и приносит плоды  True  \n",
       "7  Попробуй хоть раз в жизни сделать то, что тебе...  True  \n",
       "8  Не стоит отступать назад, когда впереди вас ож...  True  "
      ]
     },
     "execution_count": 12,
     "metadata": {},
     "output_type": "execute_result"
    }
   ],
   "source": [
    "df.head(3)"
   ]
  },
  {
   "cell_type": "code",
   "execution_count": 13,
   "id": "972b64c3",
   "metadata": {},
   "outputs": [],
   "source": [
    "df = df[df.rus!=True]"
   ]
  },
  {
   "cell_type": "code",
   "execution_count": 15,
   "id": "53400d0a",
   "metadata": {},
   "outputs": [
    {
     "data": {
      "text/html": [
       "<div>\n",
       "<style scoped>\n",
       "    .dataframe tbody tr th:only-of-type {\n",
       "        vertical-align: middle;\n",
       "    }\n",
       "\n",
       "    .dataframe tbody tr th {\n",
       "        vertical-align: top;\n",
       "    }\n",
       "\n",
       "    .dataframe thead th {\n",
       "        text-align: right;\n",
       "    }\n",
       "</style>\n",
       "<table border=\"1\" class=\"dataframe\">\n",
       "  <thead>\n",
       "    <tr style=\"text-align: right;\">\n",
       "      <th></th>\n",
       "      <th>date_unixtime</th>\n",
       "      <th>date</th>\n",
       "      <th>text</th>\n",
       "      <th>rus</th>\n",
       "    </tr>\n",
       "  </thead>\n",
       "  <tbody>\n",
       "    <tr>\n",
       "      <th>15</th>\n",
       "      <td>1518856274</td>\n",
       "      <td>2018-02-17T11:31:14</td>\n",
       "      <td>Кто хочет — ищет способ. Кто не хочет — ищет п...</td>\n",
       "      <td>False</td>\n",
       "    </tr>\n",
       "    <tr>\n",
       "      <th>32</th>\n",
       "      <td>1532414826</td>\n",
       "      <td>2018-07-24T09:47:06</td>\n",
       "      <td>Nuls (NULS) Spikes as Binance Backs Mainnet To...</td>\n",
       "      <td>False</td>\n",
       "    </tr>\n",
       "    <tr>\n",
       "      <th>33</th>\n",
       "      <td>1533047738</td>\n",
       "      <td>2018-07-31T17:35:38</td>\n",
       "      <td>Cardano (ADA) Launches Virtual Machine on Test...</td>\n",
       "      <td>False</td>\n",
       "    </tr>\n",
       "  </tbody>\n",
       "</table>\n",
       "</div>"
      ],
      "text/plain": [
       "   date_unixtime                 date  \\\n",
       "15    1518856274  2018-02-17T11:31:14   \n",
       "32    1532414826  2018-07-24T09:47:06   \n",
       "33    1533047738  2018-07-31T17:35:38   \n",
       "\n",
       "                                                 text    rus  \n",
       "15  Кто хочет — ищет способ. Кто не хочет — ищет п...  False  \n",
       "32  Nuls (NULS) Spikes as Binance Backs Mainnet To...  False  \n",
       "33  Cardano (ADA) Launches Virtual Machine on Test...  False  "
      ]
     },
     "execution_count": 15,
     "metadata": {},
     "output_type": "execute_result"
    }
   ],
   "source": [
    "df.head(3)"
   ]
  },
  {
   "cell_type": "code",
   "execution_count": 19,
   "id": "1e214ebe",
   "metadata": {},
   "outputs": [
    {
     "data": {
      "text/html": [
       "<div>\n",
       "<style scoped>\n",
       "    .dataframe tbody tr th:only-of-type {\n",
       "        vertical-align: middle;\n",
       "    }\n",
       "\n",
       "    .dataframe tbody tr th {\n",
       "        vertical-align: top;\n",
       "    }\n",
       "\n",
       "    .dataframe thead th {\n",
       "        text-align: right;\n",
       "    }\n",
       "</style>\n",
       "<table border=\"1\" class=\"dataframe\">\n",
       "  <thead>\n",
       "    <tr style=\"text-align: right;\">\n",
       "      <th></th>\n",
       "      <th>date_unixtime</th>\n",
       "      <th>date</th>\n",
       "      <th>text</th>\n",
       "      <th>rus</th>\n",
       "    </tr>\n",
       "  </thead>\n",
       "  <tbody>\n",
       "    <tr>\n",
       "      <th>32</th>\n",
       "      <td>1532414826</td>\n",
       "      <td>2018-07-24T09:47:06</td>\n",
       "      <td>Nuls (NULS) Spikes as Binance Backs Mainnet To...</td>\n",
       "      <td>False</td>\n",
       "    </tr>\n",
       "    <tr>\n",
       "      <th>33</th>\n",
       "      <td>1533047738</td>\n",
       "      <td>2018-07-31T17:35:38</td>\n",
       "      <td>Cardano (ADA) Launches Virtual Machine on Test...</td>\n",
       "      <td>False</td>\n",
       "    </tr>\n",
       "    <tr>\n",
       "      <th>34</th>\n",
       "      <td>1533369648</td>\n",
       "      <td>2018-08-04T11:00:48</td>\n",
       "      <td>​❗️ The Privacy Coin Matrix: A Comprehensive S...</td>\n",
       "      <td>False</td>\n",
       "    </tr>\n",
       "  </tbody>\n",
       "</table>\n",
       "</div>"
      ],
      "text/plain": [
       "   date_unixtime                 date  \\\n",
       "32    1532414826  2018-07-24T09:47:06   \n",
       "33    1533047738  2018-07-31T17:35:38   \n",
       "34    1533369648  2018-08-04T11:00:48   \n",
       "\n",
       "                                                 text    rus  \n",
       "32  Nuls (NULS) Spikes as Binance Backs Mainnet To...  False  \n",
       "33  Cardano (ADA) Launches Virtual Machine on Test...  False  \n",
       "34  ​❗️ The Privacy Coin Matrix: A Comprehensive S...  False  "
      ]
     },
     "execution_count": 19,
     "metadata": {},
     "output_type": "execute_result"
    }
   ],
   "source": [
    "df = df[df.index>15]\n",
    "df.head(3)"
   ]
  },
  {
   "cell_type": "code",
   "execution_count": 5,
   "id": "2e218cc8",
   "metadata": {},
   "outputs": [],
   "source": [
    "df.to_csv('cc.csv')"
   ]
  },
  {
   "cell_type": "code",
   "execution_count": 3,
   "id": "f8854733",
   "metadata": {},
   "outputs": [],
   "source": [
    "df = pd.read_csv('cc.csv')"
   ]
  },
  {
   "cell_type": "code",
   "execution_count": 4,
   "id": "156f1b8e",
   "metadata": {},
   "outputs": [],
   "source": [
    "df = df[['date_unixtime','date','text']]"
   ]
  },
  {
   "cell_type": "code",
   "execution_count": 6,
   "id": "cdd485d6",
   "metadata": {},
   "outputs": [],
   "source": [
    "df.to_csv('cc.csv')"
   ]
  }
 ],
 "metadata": {
  "kernelspec": {
   "display_name": "Python (ml04)",
   "language": "python",
   "name": "ml04"
  },
  "language_info": {
   "codemirror_mode": {
    "name": "ipython",
    "version": 3
   },
   "file_extension": ".py",
   "mimetype": "text/x-python",
   "name": "python",
   "nbconvert_exporter": "python",
   "pygments_lexer": "ipython3",
   "version": "3.7.12"
  }
 },
 "nbformat": 4,
 "nbformat_minor": 5
}
