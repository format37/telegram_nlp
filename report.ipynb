{
 "cells": [
  {
   "cell_type": "code",
   "execution_count": 1,
   "metadata": {},
   "outputs": [],
   "source": [
    "import pandas as pd"
   ]
  },
  {
   "cell_type": "code",
   "execution_count": 2,
   "metadata": {},
   "outputs": [],
   "source": [
    "df_res = pd.read_csv('out.csv')"
   ]
  },
  {
   "cell_type": "code",
   "execution_count": 3,
   "metadata": {},
   "outputs": [],
   "source": [
    "positive = df_res[df_res.res=='positive']\n",
    "neutral  = df_res[df_res.res=='neutral']\n",
    "negative = df_res[df_res.res=='negative']\n",
    "speech = df_res[df_res.res=='speech']\n",
    "skip = df_res[df_res.res=='skip']\n",
    "\n",
    "res_z = neutral[{'from','res'}].groupby('from').res.count()\n",
    "res_n = negative[{'from','res'}].groupby('from').res.count()\n",
    "res_p = positive[{'from','res'}].groupby('from').res.count()\n",
    "res_h = speech[{'from','res'}].groupby('from').res.count()\n",
    "res_k = skip[{'from','res'}].groupby('from').res.count()\n",
    "\n",
    "final_z = pd.DataFrame({'from':res_z.index, 'negative':res_z.values})\n",
    "final_n = pd.DataFrame({'from':res_n.index, 'neutral':res_n.values})\n",
    "final_p = pd.DataFrame({'from':res_p.index, 'positive':res_p.values})\n",
    "final_h = pd.DataFrame({'from':res_h.index, 'speech':res_h.values})\n",
    "final_k = pd.DataFrame({'from':res_k.index, 'skip':res_k.values})\n",
    "\n",
    "df_final = pd.DataFrame(columns=['from', 'positive', 'neutral', 'negative','speech','skip'])\n",
    "df_final = df_final.append(final_z)\n",
    "df_final = df_final.append(final_n)\n",
    "df_final = df_final.append(final_p)\n",
    "df_final = df_final.append(final_h)\n",
    "df_final = df_final.append(final_k)\n",
    "\n",
    "df_final = df_final.fillna(0)\n",
    "\n",
    "df_group = df_final.groupby('from').sum()\n",
    "\n",
    "df_group['score']=(df_group.positive+df_group.speech+df_group.skip+df_group.neutral-df_group.negative)/(df_group.positive+df_group.positive+df_group.speech+df_group.skip+df_group.negative+df_group.neutral)\n",
    "df_group.sort_values('score', ascending = True)\n",
    "df_group['from'] = df_group.index"
   ]
  },
  {
   "cell_type": "code",
   "execution_count": 5,
   "metadata": {},
   "outputs": [
    {
     "data": {
      "text/html": [
       "<div>\n",
       "<style scoped>\n",
       "    .dataframe tbody tr th:only-of-type {\n",
       "        vertical-align: middle;\n",
       "    }\n",
       "\n",
       "    .dataframe tbody tr th {\n",
       "        vertical-align: top;\n",
       "    }\n",
       "\n",
       "    .dataframe thead th {\n",
       "        text-align: right;\n",
       "    }\n",
       "</style>\n",
       "<table border=\"1\" class=\"dataframe\">\n",
       "  <thead>\n",
       "    <tr style=\"text-align: right;\">\n",
       "      <th></th>\n",
       "      <th>positive</th>\n",
       "      <th>neutral</th>\n",
       "      <th>negative</th>\n",
       "      <th>speech</th>\n",
       "      <th>skip</th>\n",
       "      <th>score</th>\n",
       "      <th>from</th>\n",
       "    </tr>\n",
       "    <tr>\n",
       "      <th>from</th>\n",
       "      <th></th>\n",
       "      <th></th>\n",
       "      <th></th>\n",
       "      <th></th>\n",
       "      <th></th>\n",
       "      <th></th>\n",
       "      <th></th>\n",
       "    </tr>\n",
       "  </thead>\n",
       "  <tbody>\n",
       "    <tr>\n",
       "      <th>Vladimir Korotkov</th>\n",
       "      <td>0</td>\n",
       "      <td>2</td>\n",
       "      <td>2</td>\n",
       "      <td>0</td>\n",
       "      <td>0</td>\n",
       "      <td>0.000000</td>\n",
       "      <td>Vladimir Korotkov</td>\n",
       "    </tr>\n",
       "    <tr>\n",
       "      <th>Александр Липин</th>\n",
       "      <td>2</td>\n",
       "      <td>0</td>\n",
       "      <td>5</td>\n",
       "      <td>0</td>\n",
       "      <td>0</td>\n",
       "      <td>-0.333333</td>\n",
       "      <td>Александр Липин</td>\n",
       "    </tr>\n",
       "    <tr>\n",
       "      <th>Николай Тен</th>\n",
       "      <td>0</td>\n",
       "      <td>1</td>\n",
       "      <td>2</td>\n",
       "      <td>0</td>\n",
       "      <td>0</td>\n",
       "      <td>-0.333333</td>\n",
       "      <td>Николай Тен</td>\n",
       "    </tr>\n",
       "    <tr>\n",
       "      <th>Алексей Богин</th>\n",
       "      <td>1</td>\n",
       "      <td>0</td>\n",
       "      <td>7</td>\n",
       "      <td>0</td>\n",
       "      <td>2</td>\n",
       "      <td>-0.363636</td>\n",
       "      <td>Алексей Богин</td>\n",
       "    </tr>\n",
       "    <tr>\n",
       "      <th>Alexey Yurasov</th>\n",
       "      <td>0</td>\n",
       "      <td>0</td>\n",
       "      <td>1</td>\n",
       "      <td>0</td>\n",
       "      <td>0</td>\n",
       "      <td>-1.000000</td>\n",
       "      <td>Alexey Yurasov</td>\n",
       "    </tr>\n",
       "    <tr>\n",
       "      <th>Николай</th>\n",
       "      <td>0</td>\n",
       "      <td>0</td>\n",
       "      <td>4</td>\n",
       "      <td>0</td>\n",
       "      <td>0</td>\n",
       "      <td>-1.000000</td>\n",
       "      <td>Николай</td>\n",
       "    </tr>\n",
       "  </tbody>\n",
       "</table>\n",
       "</div>"
      ],
      "text/plain": [
       "                   positive  neutral  negative  speech  skip     score  \\\n",
       "from                                                                     \n",
       "Vladimir Korotkov         0        2         2       0     0  0.000000   \n",
       "Александр Липин           2        0         5       0     0 -0.333333   \n",
       "Николай Тен               0        1         2       0     0 -0.333333   \n",
       "Алексей Богин             1        0         7       0     2 -0.363636   \n",
       "Alexey Yurasov            0        0         1       0     0 -1.000000   \n",
       "Николай                   0        0         4       0     0 -1.000000   \n",
       "\n",
       "                                from  \n",
       "from                                  \n",
       "Vladimir Korotkov  Vladimir Korotkov  \n",
       "Александр Липин      Александр Липин  \n",
       "Николай Тен              Николай Тен  \n",
       "Алексей Богин          Алексей Богин  \n",
       "Alexey Yurasov        Alexey Yurasov  \n",
       "Николай                      Николай  "
      ]
     },
     "execution_count": 5,
     "metadata": {},
     "output_type": "execute_result"
    }
   ],
   "source": [
    "df_group.sort_values('score', ascending = False)"
   ]
  },
  {
   "cell_type": "code",
   "execution_count": 6,
   "metadata": {},
   "outputs": [
    {
     "data": {
      "image/png": "[encoded data removed]",
      "text/plain": [
       "<Figure size 1080x1080 with 1 Axes>"
      ]
     },
     "metadata": {},
     "output_type": "display_data"
    }
   ],
   "source": [
    "graphic = df_group.sort_values('score', ascending = False).plot(\n",
    "    x='from',\n",
    "    y='score',\n",
    "    kind='barh',\n",
    "    title = 'sentiment',\n",
    "    figsize=(15,15),\n",
    "    grid = True\n",
    ")\n",
    "fig = graphic.get_figure()\n",
    "fig.savefig(\"report.png\")"
   ]
  }
 ],
 "metadata": {
  "kernelspec": {
   "display_name": "Python 3",
   "language": "python",
   "name": "python3"
  },
  "language_info": {
   "codemirror_mode": {
    "name": "ipython",
    "version": 3
   },
   "file_extension": ".py",
   "mimetype": "text/x-python",
   "name": "python",
   "nbconvert_exporter": "python",
   "pygments_lexer": "ipython3",
   "version": "3.6.9"
  }
 },
 "nbformat": 4,
 "nbformat_minor": 2
}
